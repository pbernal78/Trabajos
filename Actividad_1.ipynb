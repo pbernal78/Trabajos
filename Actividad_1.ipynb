{
  "nbformat": 4,
  "nbformat_minor": 0,
  "metadata": {
    "colab": {
      "provenance": []
    },
    "kernelspec": {
      "name": "python3",
      "display_name": "Python 3"
    },
    "language_info": {
      "name": "python"
    }
  },
  "cells": [
    {
      "cell_type": "code",
      "source": [
        "def division (a, b , c):\n",
        "  if type (a) == int and type (b)== int and type (c)== int:\n",
        "    suma = a + b\n",
        "    if (c) == 0:\n",
        "      print (\" No se puede dividir entre cero\")\n",
        "\n",
        "    else :\n",
        "      print (suma/c)\n",
        "  else :\n",
        "    print (\" Todos los datos deben ser enteros\")\n",
        "\n"
      ],
      "metadata": {
        "id": "iBEqhywTnJk5"
      },
      "execution_count": 9,
      "outputs": []
    }
  ]
}