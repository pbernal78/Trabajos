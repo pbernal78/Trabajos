{
  "nbformat": 4,
  "nbformat_minor": 0,
  "metadata": {
    "colab": {
      "provenance": []
    },
    "kernelspec": {
      "name": "python3",
      "display_name": "Python 3"
    },
    "language_info": {
      "name": "python"
    }
  },
  "cells": [
    {
      "cell_type": "markdown",
      "source": [
        "1. Define dos variables, nombre y edad, e imprime un mensaje de saludo que las utilice."
      ],
      "metadata": {
        "id": "MVxAy1Ihn9ZU"
      }
    },
    {
      "cell_type": "code",
      "source": [
        "a = \"Paula\"\n",
        "b = 21"
      ],
      "metadata": {
        "id": "_z7iYWpawg0l"
      },
      "execution_count": null,
      "outputs": []
    },
    {
      "cell_type": "code",
      "source": [
        "print (\"Hola, mi nombre es\",(a), \"y tengo\", (b),\"años\")"
      ],
      "metadata": {
        "colab": {
          "base_uri": "https://localhost:8080/"
        },
        "id": "ICgIeKSFwucN",
        "outputId": "692846fd-0f87-480d-d441-8ca36fc014b4"
      },
      "execution_count": null,
      "outputs": [
        {
          "output_type": "stream",
          "name": "stdout",
          "text": [
            "Hola, mi nombre es Paula y tengo 21 años\n"
          ]
        }
      ]
    },
    {
      "cell_type": "markdown",
      "source": [
        "2. Calcula y muestra el área de un círculo. Pide al usuario que ingrese la radio.\n",
        "\n"
      ],
      "metadata": {
        "id": "JSdSVQdXoPP-"
      }
    },
    {
      "cell_type": "code",
      "source": [
        "def div_radio(a, b=2):\n",
        "\n",
        " Division = a / b\n",
        " print(Division / b)\n"
      ],
      "metadata": {
        "id": "0-GspCVHoVCU"
      },
      "execution_count": null,
      "outputs": []
    },
    {
      "cell_type": "code",
      "source": [
        "div_radio(6)"
      ],
      "metadata": {
        "colab": {
          "base_uri": "https://localhost:8080/"
        },
        "id": "HgYvlzQksrRR",
        "outputId": "256e6e9e-3f16-4e7b-f922-576e7e6ac25f"
      },
      "execution_count": null,
      "outputs": [
        {
          "output_type": "stream",
          "name": "stdout",
          "text": [
            "1.5\n"
          ]
        }
      ]
    },
    {
      "cell_type": "markdown",
      "source": [
        "3. Escribe una función calcular_promedio que tome una lista de números como argumento y devuelva su promedio.\n"
      ],
      "metadata": {
        "id": "KokphnNbpr-O"
      }
    },
    {
      "cell_type": "code",
      "source": [
        "def calcular_promedio(lista_numeros):\n",
        "    # Verifica si la lista está vacía para evitar una división por cero\n",
        "    if len(lista_numeros) == 0:\n",
        "        return 0  # El promedio de una lista vacía es 0\n",
        "\n",
        "    # Calcula la suma de los números en la lista\n",
        "    suma = sum(lista_numeros)\n",
        "\n",
        "    # Calcula el promedio dividiendo la suma por la cantidad de números\n",
        "    promedio = suma / len(lista_numeros)\n",
        "\n",
        "    return promedio\n",
        "\n",
        "numeros = [10, 15, 20, 26, 19, 2, 5, 32, 35, 27, 23, 21, 54, 85, 98]\n",
        "resultado = calcular_promedio(numeros)\n",
        "print(f\"El promedio de la lista es: {resultado}\")\n"
      ],
      "metadata": {
        "colab": {
          "base_uri": "https://localhost:8080/"
        },
        "id": "rrEEzV-Pj_bT",
        "outputId": "ca8c8319-14aa-4101-9390-dd516f469e56"
      },
      "execution_count": null,
      "outputs": [
        {
          "output_type": "stream",
          "name": "stdout",
          "text": [
            "El promedio de la lista es: 31.466666666666665\n"
          ]
        }
      ]
    },
    {
      "cell_type": "markdown",
      "source": [
        "4. Crea una lista de números y utiliza un bucle para mostrar los números mayores que 10.\n",
        "\n"
      ],
      "metadata": {
        "id": "TbvWSKU4tGGT"
      }
    },
    {
      "cell_type": "code",
      "source": [
        "l1= [26, 2, 0, 1, 15, 21, 35, 8, 3, 6]\n"
      ],
      "metadata": {
        "id": "OsDemZ0ltKiy"
      },
      "execution_count": null,
      "outputs": []
    },
    {
      "cell_type": "code",
      "source": [
        "for i in l1:\n",
        "  if i > 10:\n",
        "    print(i)\n"
      ],
      "metadata": {
        "colab": {
          "base_uri": "https://localhost:8080/"
        },
        "id": "FX7Op_7Otvec",
        "outputId": "beff249d-bb42-43dc-b216-036cc34ebd11"
      },
      "execution_count": null,
      "outputs": [
        {
          "output_type": "stream",
          "name": "stdout",
          "text": [
            "26\n",
            "15\n",
            "21\n",
            "35\n"
          ]
        }
      ]
    },
    {
      "cell_type": "markdown",
      "source": [
        "5. Define un diccionario que almacene los precios de tres productos diferentes. Pide al usuario que ingrese el nombre de un producto y muestra su precio.\n",
        "\n"
      ],
      "metadata": {
        "id": "XbcUuIKZuDu8"
      }
    },
    {
      "cell_type": "code",
      "source": [
        "d= {'Leche': '$ 5.600',\n",
        "    'Libra de arroz': '$ 2.300',\n",
        "  'Bolsa de pan': '$ 2.000'}"
      ],
      "metadata": {
        "id": "_joK9KRTuKVc"
      },
      "execution_count": null,
      "outputs": []
    },
    {
      "cell_type": "code",
      "source": [
        "d['Leche']"
      ],
      "metadata": {
        "colab": {
          "base_uri": "https://localhost:8080/",
          "height": 35
        },
        "id": "Y-Pvw5J4vxAf",
        "outputId": "468d62af-f64e-4631-9f41-8d703ca009ad"
      },
      "execution_count": null,
      "outputs": [
        {
          "output_type": "execute_result",
          "data": {
            "text/plain": [
              "'$ 5.600'"
            ],
            "application/vnd.google.colaboratory.intrinsic+json": {
              "type": "string"
            }
          },
          "metadata": {},
          "execution_count": 32
        }
      ]
    },
    {
      "cell_type": "code",
      "source": [
        "d['Bolsa de pan']\n"
      ],
      "metadata": {
        "colab": {
          "base_uri": "https://localhost:8080/",
          "height": 35
        },
        "id": "TKYTeOvmv5S1",
        "outputId": "fc283d40-ee44-44b8-b760-bc2d61059862"
      },
      "execution_count": null,
      "outputs": [
        {
          "output_type": "execute_result",
          "data": {
            "text/plain": [
              "'$ 2.000'"
            ],
            "application/vnd.google.colaboratory.intrinsic+json": {
              "type": "string"
            }
          },
          "metadata": {},
          "execution_count": 33
        }
      ]
    },
    {
      "cell_type": "code",
      "source": [
        "d['Libra de arroz']"
      ],
      "metadata": {
        "colab": {
          "base_uri": "https://localhost:8080/",
          "height": 35
        },
        "id": "yML5vC5Bv83W",
        "outputId": "9328a597-e035-48f0-fece-640db3b31312"
      },
      "execution_count": null,
      "outputs": [
        {
          "output_type": "execute_result",
          "data": {
            "text/plain": [
              "'$ 2.300'"
            ],
            "application/vnd.google.colaboratory.intrinsic+json": {
              "type": "string"
            }
          },
          "metadata": {},
          "execution_count": 34
        }
      ]
    },
    {
      "cell_type": "markdown",
      "source": [
        "6. Escribe una función es_primo que determine si un número dado es primo o no."
      ],
      "metadata": {
        "id": "SKkQW-uNwBlE"
      }
    },
    {
      "cell_type": "code",
      "source": [
        "def es_primo(numero):\n",
        "    if numero <= 1:\n",
        "        return False  # Los números menores o iguales a 1 no son primos\n",
        "\n",
        "    # Comprobamos si el número es divisible por algún número entre 2 y la raíz cuadrada del número\n",
        "    for i in range(2, int(numero**0.5) + 1):\n",
        "        if numero % i == 0:\n",
        "            return False  # El número no es primo si es divisible por algún número en ese rango\n",
        "\n",
        "    return True  # Si no se encontró ningún divisor, el número es primo\n",
        "\n",
        "\n",
        "numero = 35\n",
        "if es_primo(numero):\n",
        "    print(f\"{numero} es un número primo.\")\n",
        "else:\n",
        "    print(f\"{numero} no es un número primo.\")\n",
        "\n"
      ],
      "metadata": {
        "id": "ldnENSUIwH7i",
        "colab": {
          "base_uri": "https://localhost:8080/"
        },
        "outputId": "9b5a1be5-5405-46ab-8990-ef8c502171f5"
      },
      "execution_count": null,
      "outputs": [
        {
          "output_type": "stream",
          "name": "stdout",
          "text": [
            "35 no es un número primo.\n"
          ]
        }
      ]
    },
    {
      "cell_type": "markdown",
      "source": [
        "7. Crea una lista de nombres y utiliza un bucle mientras para imprimir cada nombre hasta que encuentres el nombre \"Alex\"."
      ],
      "metadata": {
        "id": "r_00ABr2x2S6"
      }
    },
    {
      "cell_type": "code",
      "source": [
        "# Crear una lista de nombres\n",
        "nombres = ['Samira', 'Leandro','Liam','Santiago','Alex','Luciana','Andrea' , 'Alejandro']\n",
        "\n",
        "# Inicializar un índice\n",
        "indice = 0\n",
        "\n",
        "# Utilizar un bucle while para imprimir nombres hasta encontrar \"Alex\"\n",
        "while indice < len(nombres):\n",
        "    nombre_actual = nombres[indice]\n",
        "    print(nombre_actual)\n",
        "\n",
        "    # Verificar si el nombre actual es \"Alex\"\n",
        "    if nombre_actual == \"Alex\":\n",
        "        break  # Salir del bucle si se encuentra \"Alex\"\n",
        "\n",
        "    # Incrementar el índice para avanzar al siguiente nombre\n",
        "    indice += 1\n"
      ],
      "metadata": {
        "colab": {
          "base_uri": "https://localhost:8080/"
        },
        "id": "ffuDEixUmJxD",
        "outputId": "6a2cf2ca-d585-4377-ff5a-496b20f58111"
      },
      "execution_count": null,
      "outputs": [
        {
          "output_type": "stream",
          "name": "stdout",
          "text": [
            "Samira\n",
            "Leandro\n",
            "Liam\n",
            "Santiago\n",
            "Alex\n"
          ]
        }
      ]
    },
    {
      "cell_type": "markdown",
      "source": [
        "8. Escribe una función invertir_cadena que tome una cadena como argumento y devuelva la cadena invertida.\n",
        "\n"
      ],
      "metadata": {
        "id": "ECzqB6p9mZIC"
      }
    },
    {
      "cell_type": "code",
      "source": [
        "def invertir_cadena(cadena):\n",
        "    # Utiliza el slicing para invertir la cadena\n",
        "    cadena_invertida = cadena[::-1]\n",
        "    return cadena_invertida\n",
        "\n",
        "\n",
        "cadena_original = \"Bienvenidos\"\n",
        "cadena_invertida = invertir_cadena(cadena_original)\n",
        "print(\"Cadena original:\", cadena_original)\n",
        "print(\"Cadena invertida:\", cadena_invertida)\n"
      ],
      "metadata": {
        "colab": {
          "base_uri": "https://localhost:8080/"
        },
        "id": "0aT9L2BomfqU",
        "outputId": "1211f5fe-a38c-4a0a-fbdd-b4dffb25f3a8"
      },
      "execution_count": null,
      "outputs": [
        {
          "output_type": "stream",
          "name": "stdout",
          "text": [
            "Cadena original: Bienvenidos\n",
            "Cadena invertida: sodinevneiB\n"
          ]
        }
      ]
    },
    {
      "cell_type": "markdown",
      "source": [
        "9. Crea una lista de números pares del 2 al 20 utilizando una comprensión de lista."
      ],
      "metadata": {
        "id": "No2eZ3UYm3_i"
      }
    },
    {
      "cell_type": "code",
      "source": [
        "numeros_pares = [x for x in range(2, 21, 2)]\n",
        "print(numeros_pares)\n"
      ],
      "metadata": {
        "colab": {
          "base_uri": "https://localhost:8080/"
        },
        "id": "3iiRtotu0vC7",
        "outputId": "059b62fa-9172-4caa-c6a3-d2ab2f32211d"
      },
      "execution_count": null,
      "outputs": [
        {
          "output_type": "stream",
          "name": "stdout",
          "text": [
            "[2, 4, 6, 8, 10, 12, 14, 16, 18, 20]\n"
          ]
        }
      ]
    },
    {
      "cell_type": "markdown",
      "source": [
        "10. Escribe un programa que genere los primeros n términos de la serie de Fibonacci a discresión del usuario."
      ],
      "metadata": {
        "id": "1JA7EIWJ11sp"
      }
    },
    {
      "cell_type": "code",
      "source": [
        "# Función para generar los primeros n términos de la serie de Fibonacci\n",
        "def fibonacci(n):\n",
        "    fib_series = []  # Inicializamos una lista para almacenar la serie de Fibonacci\n",
        "\n",
        "    # Caso base para los dos primeros términos\n",
        "    a, b = 0, 1\n",
        "\n",
        "    # Agregamos los primeros n términos a la lista\n",
        "    for _ in range(n):\n",
        "        fib_series.append(a)\n",
        "        a, b = b, a + b  # Actualizamos a y b según la serie de Fibonacci\n",
        "\n",
        "    return fib_series\n",
        "\n",
        "# Solicitamos al usuario la cantidad de términos que desea generar (en este caso, 20)\n",
        "n = 20\n",
        "\n",
        "# Llamamos a la función para generar la serie\n",
        "serie = fibonacci(n)\n",
        "\n",
        "# Mostramos la serie generada\n",
        "print(\"Los primeros 20 términos de la serie de Fibonacci son:\")\n",
        "print(serie)\n"
      ],
      "metadata": {
        "colab": {
          "base_uri": "https://localhost:8080/"
        },
        "id": "GVCnw9Je19F-",
        "outputId": "80274fae-2c44-4f64-8732-389a536e2749"
      },
      "execution_count": null,
      "outputs": [
        {
          "output_type": "stream",
          "name": "stdout",
          "text": [
            "Los primeros 20 términos de la serie de Fibonacci son:\n",
            "[0, 1, 1, 2, 3, 5, 8, 13, 21, 34, 55, 89, 144, 233, 377, 610, 987, 1597, 2584, 4181]\n"
          ]
        }
      ]
    },
    {
      "cell_type": "markdown",
      "source": [
        "11. Escribe una función calcular_interes_simple que calcula el interés simple dado el principal, la tasa de interés y el tiempo en años."
      ],
      "metadata": {
        "id": "i-p0goi52Hci"
      }
    },
    {
      "cell_type": "code",
      "source": [
        "def calcular_interes_simple(principal, tasa_de_interes, tiempo_en_anios):\n",
        "    # Calcula el interés simple usando la fórmula: Interés = Principal * Tasa de interés * Tiempo\n",
        "    interes = principal * tasa_de_interes * tiempo_en_anios\n",
        "\n",
        "    return interes\n",
        "\n",
        "\n",
        "principal = 3000  # Principal (capital) en dólares\n",
        "tasa_de_interes = 0.05  # Tasa de interés del 5% (0.05 en forma decimal)\n",
        "tiempo_en_anios = 5 # Tiempo en años\n",
        "\n",
        "# Llamamos a la función para calcular el interés simple\n",
        "interes = calcular_interes_simple(principal, tasa_de_interes, tiempo_en_anios)\n",
        "\n",
        "# Mostramos el resultado\n",
        "print(f\"El interés simple es: {interes} dólares\")\n"
      ],
      "metadata": {
        "colab": {
          "base_uri": "https://localhost:8080/"
        },
        "id": "vC6jdC5j2NQV",
        "outputId": "26186bc1-e283-4b83-c83e-bc59f2e477f4"
      },
      "execution_count": null,
      "outputs": [
        {
          "output_type": "stream",
          "name": "stdout",
          "text": [
            "El interés simple es: 750.0 dólares\n"
          ]
        }
      ]
    },
    {
      "cell_type": "markdown",
      "source": [
        "12. Crea una lista de precios de acciones. Utiliza una función para calcular el promedio de esos precios."
      ],
      "metadata": {
        "id": "WbzXvI9j2pie"
      }
    },
    {
      "cell_type": "code",
      "source": [
        "# Crear una lista de precios de acciones\n",
        "precios_acciones = [50, 25, 30, 52, 15, 51, 80, 40, 8, 10,75]\n",
        "\n",
        "# Función para calcular el promedio de los precios\n",
        "def calcular_promedio(precios):\n",
        "    if len(precios) == 0:\n",
        "        return 0  # Si la lista está vacía, retornar 0 para evitar división por cero\n",
        "\n",
        "    total = sum(precios)\n",
        "    promedio = total / len(precios)\n",
        "    return promedio\n",
        "\n",
        "# Calcular el promedio de los precios de acciones\n",
        "promedio_precios = calcular_promedio(precios_acciones)\n",
        "\n",
        "# Mostrar el resultado\n",
        "print(\"Lista de precios de acciones:\", precios_acciones)\n",
        "print(f\"El promedio de los precios de acciones es: {promedio_precios:.2f}\")\n"
      ],
      "metadata": {
        "colab": {
          "base_uri": "https://localhost:8080/"
        },
        "id": "v4CnHsQP3U0S",
        "outputId": "e7294ec0-5bfd-41cd-d144-55357c8a8284"
      },
      "execution_count": null,
      "outputs": [
        {
          "output_type": "stream",
          "name": "stdout",
          "text": [
            "Lista de precios de acciones: [50, 25, 30, 52, 15, 51, 80, 40, 8, 10, 75]\n",
            "El promedio de los precios de acciones es: 39.64\n"
          ]
        }
      ]
    },
    {
      "cell_type": "markdown",
      "source": [
        "13.Escribe una función convertir_dolares_a_euros que tome una cantidad en dólares y la convierta a euros (usando una tasa de cambio fija)."
      ],
      "metadata": {
        "id": "Oq9FDqlF4K3k"
      }
    },
    {
      "cell_type": "code",
      "source": [
        "def convertir_dolares_a_euros(cantidad_en_dolares, tasa_de_cambio):\n",
        "    # Calcula la cantidad en euros multiplicando la cantidad en dólares por la tasa de cambio\n",
        "    cantidad_en_euros = cantidad_en_dolares * tasa_de_cambio\n",
        "    return cantidad_en_euros\n",
        "\n",
        "# Tasa de cambio fija (por ejemplo, 1 dólar = 0.93 euros)\n",
        "tasa_de_cambio = 0.93\n",
        "\n",
        "# Solicita al usuario la cantidad en dólares que desea convertir\n",
        "cantidad_en_dolares = float(input(\"Ingrese la cantidad en dólares: \"))\n",
        "\n",
        "# Llama a la función para realizar la conversión\n",
        "cantidad_en_euros = convertir_dolares_a_euros(cantidad_en_dolares, tasa_de_cambio)\n",
        "\n",
        "# Muestra el resultado\n",
        "print(f\"{cantidad_en_dolares} dólares son equivalentes a {cantidad_en_euros} euros.\")\n"
      ],
      "metadata": {
        "colab": {
          "base_uri": "https://localhost:8080/"
        },
        "id": "tWMLlpOn4XIa",
        "outputId": "fcbb3ef6-25fb-47f0-82e2-7f440a480b9d"
      },
      "execution_count": null,
      "outputs": [
        {
          "output_type": "stream",
          "name": "stdout",
          "text": [
            "Ingrese la cantidad en dólares: 1000\n",
            "1000.0 dólares son equivalentes a 930.0 euros.\n"
          ]
        }
      ]
    },
    {
      "cell_type": "markdown",
      "source": [
        "14. Crea una función calcular_factorial que calcula el factorial de un número dado.\n"
      ],
      "metadata": {
        "id": "523mX5Hw5FOX"
      }
    },
    {
      "cell_type": "code",
      "source": [
        "def calcular_factorial(numero):\n",
        "    # Inicializamos el factorial a 1\n",
        "    factorial = 1\n",
        "\n",
        "\n",
        "    # Verificamos si el número es negativo\n",
        "    if numero < 0:\n",
        "        return \"No se puede calcular el factorial de un número negativo.\"\n",
        "\n",
        "    # Calculamos el factorial\n",
        "    for i in range(1, numero + 1):\n",
        "        factorial *= i\n",
        "\n",
        "    return factorial\n",
        "\n",
        "# Solicitamos al usuario que ingrese un número para calcular su factorial\n",
        "try:\n",
        "    numero = int(input(\"Ingrese un número para calcular su factorial: \"))\n",
        "    resultado = calcular_factorial(numero)\n",
        "    print(f\"El factorial de {numero} es: {resultado}\")\n",
        "except ValueError:\n",
        "    print(\"Por favor, ingrese un número entero válido.\")\n",
        "\n"
      ],
      "metadata": {
        "colab": {
          "base_uri": "https://localhost:8080/"
        },
        "id": "sTyIFOue42X9",
        "outputId": "1d0ea0db-c678-4656-c1fd-315c99fc5cef"
      },
      "execution_count": null,
      "outputs": [
        {
          "output_type": "stream",
          "name": "stdout",
          "text": [
            "Ingrese un número para calcular su factorial: 60\n",
            "El factorial de 60 es: 24962961338224170432829023549670093142262517819083737857347833089228800000000000000\n"
          ]
        }
      ]
    },
    {
      "cell_type": "markdown",
      "source": [
        "15. Defina un diccionario que contenga los nombres y saldos de cuentas bancarias. Escribe una función que encuentre la cuenta con el saldo más alto."
      ],
      "metadata": {
        "id": "d-FWGEQS5D9q"
      }
    },
    {
      "cell_type": "code",
      "source": [
        "# Definir un diccionario con nombres y saldos de cuentas bancarias\n",
        "cuentas_bancarias = {\n",
        "    \"SOFIA\": 3800,\n",
        "    \"CAMILO\": 4000,\n",
        "    \"ALBERTO\": 8000,\n",
        "    \"LUPITA\": 5500,\n",
        "    \"EMA\": 9200\n",
        "}\n",
        "\n",
        "# Función para encontrar la cuenta con el saldo más alto\n",
        "def cuenta_con_saldo_mas_alto(cuentas):\n",
        "    saldo_mas_alto = 0\n",
        "    cuenta_mas_alta = None\n",
        "\n",
        "    for nombre, saldo in cuentas.items():\n",
        "        if saldo > saldo_mas_alto:\n",
        "            saldo_mas_alto = saldo\n",
        "            cuenta_mas_alta = nombre\n",
        "\n",
        "    return cuenta_mas_alta, saldo_mas_alto\n",
        "\n",
        "# Llamamos a la función para encontrar la cuenta con el saldo más alto\n",
        "nombre_cuenta_mas_alta, saldo_cuenta_mas_alto = cuenta_con_saldo_mas_alto(cuentas_bancarias)\n",
        "\n",
        "# Mostramos el resultado\n",
        "print(f\"La cuenta con el saldo más alto pertenece a {nombre_cuenta_mas_alta} con un saldo de {saldo_cuenta_mas_alto} dólares.\")\n"
      ],
      "metadata": {
        "colab": {
          "base_uri": "https://localhost:8080/"
        },
        "id": "WHVkDC1s5ALe",
        "outputId": "f3107ee6-b502-4583-d0ac-24fc45d38656"
      },
      "execution_count": null,
      "outputs": [
        {
          "output_type": "stream",
          "name": "stdout",
          "text": [
            "La cuenta con el saldo más alto pertenece a EMA con un saldo de 9200 dólares.\n"
          ]
        }
      ]
    },
    {
      "cell_type": "markdown",
      "source": [
        "16.Escribe un programa que calcula e imprime los primeros 15\n",
        "números triangulares a discresión del usuario."
      ],
      "metadata": {
        "id": "KrWRh8Gc6XJf"
      }
    },
    {
      "cell_type": "code",
      "source": [
        "# Función para calcular el número triangular dado un número n\n",
        "def numero_triangular(n):\n",
        "    return n * (n + 1) // 2\n",
        "\n",
        "# Calculamos e imprimimos los primeros 15 números triangulares\n",
        "print(\"Los primeros 15 números triangulares son:\")\n",
        "for i in range(1, 16):\n",
        "    print(f\"Triangular {i}: {numero_triangular(i)}\")\n"
      ],
      "metadata": {
        "colab": {
          "base_uri": "https://localhost:8080/"
        },
        "id": "ggH4_GmG61wx",
        "outputId": "81c6d3fd-5add-42b0-c206-0d3511b13fb2"
      },
      "execution_count": null,
      "outputs": [
        {
          "output_type": "stream",
          "name": "stdout",
          "text": [
            "Los primeros 15 números triangulares son:\n",
            "Triangular 1: 1\n",
            "Triangular 2: 3\n",
            "Triangular 3: 6\n",
            "Triangular 4: 10\n",
            "Triangular 5: 15\n",
            "Triangular 6: 21\n",
            "Triangular 7: 28\n",
            "Triangular 8: 36\n",
            "Triangular 9: 45\n",
            "Triangular 10: 55\n",
            "Triangular 11: 66\n",
            "Triangular 12: 78\n",
            "Triangular 13: 91\n",
            "Triangular 14: 105\n",
            "Triangular 15: 120\n"
          ]
        }
      ]
    },
    {
      "cell_type": "markdown",
      "source": [
        "17. Crea una función calcular_descuento que calcula el precio final después de aplicar un descuento a un artículo."
      ],
      "metadata": {
        "id": "BjAcHKwd7L2Q"
      }
    },
    {
      "cell_type": "code",
      "source": [
        "def calcular_descuento(precio_original, porcentaje_descuento):\n",
        "    # Calcula el descuento restando el porcentaje del precio original\n",
        "    descuento = precio_original * (porcentaje_descuento / 100)\n",
        "\n",
        "    # Calcula el precio final restando el descuento al precio original\n",
        "    precio_final = precio_original - descuento\n",
        "\n",
        "    return precio_final\n",
        "\n",
        "\n",
        "precio_original = float(input(\"Ingrese el precio original del artículo: \"))\n",
        "porcentaje_descuento = float(input(\"Ingrese el porcentaje de descuento: \"))\n",
        "\n",
        "precio_final = calcular_descuento(precio_original, porcentaje_descuento)\n",
        "\n",
        "print(f\"El precio final después del descuento es: {precio_final:.2f} dólares\")\n"
      ],
      "metadata": {
        "colab": {
          "base_uri": "https://localhost:8080/"
        },
        "id": "DcMguvkW7YzU",
        "outputId": "7b4ca8db-7768-4f21-fd21-e0ee00a4a3a2"
      },
      "execution_count": 26,
      "outputs": [
        {
          "output_type": "stream",
          "name": "stdout",
          "text": [
            "Ingrese el precio original del artículo: 25000\n",
            "Ingrese el porcentaje de descuento: 20\n",
            "El precio final después del descuento es: 20000.00 dólares\n"
          ]
        }
      ]
    },
    {
      "cell_type": "markdown",
      "source": [
        "18. Escribe una función que tome una lista de números y devuelva una nueva lista con solo los números pares."
      ],
      "metadata": {
        "id": "kwPn5thW7mZC"
      }
    },
    {
      "cell_type": "code",
      "source": [
        "def obtener_numeros_pares(lista):\n",
        "    numeros_pares = [num for num in lista if num % 2 == 0]\n",
        "    return numeros_pares\n",
        "\n",
        "\n",
        "numeros = [15, 8, 64, 95, 36, 28, 13, 42,15,54, 88]\n",
        "numeros_pares = obtener_numeros_pares(numeros)\n",
        "print(\"Números pares en la lista:\", numeros_pares)\n"
      ],
      "metadata": {
        "colab": {
          "base_uri": "https://localhost:8080/"
        },
        "id": "92dZPb4p7yXe",
        "outputId": "2070edd2-28e3-4a72-c8c7-f5883e9e504d"
      },
      "execution_count": null,
      "outputs": [
        {
          "output_type": "stream",
          "name": "stdout",
          "text": [
            "Números pares en la lista: [8, 64, 36, 28, 42, 54, 88]\n"
          ]
        }
      ]
    },
    {
      "cell_type": "markdown",
      "source": [
        "19. Crea una lista de números y utiliza una función para encontrar el número más grande y el más pequeño."
      ],
      "metadata": {
        "id": "Ud-0ON0b8QN8"
      }
    },
    {
      "cell_type": "code",
      "source": [
        "# Función para encontrar el número más grande y el más pequeño en una lista\n",
        "def encontrar_minimo_maximo(lista):\n",
        "    if not lista:\n",
        "        return None, None  # Si la lista está vacía, no hay mínimo ni máximo\n",
        "\n",
        "    minimo = maximo = lista[0]  # Inicializamos minimo y maximo con el primer elemento\n",
        "\n",
        "    for numero in lista:\n",
        "        if numero < minimo:\n",
        "            minimo = numero\n",
        "        elif numero > maximo:\n",
        "            maximo = numero\n",
        "\n",
        "    return minimo, maximo\n",
        "\n",
        "\n",
        "numeros = [16, 84, 75, 42, 8, 19, 36, 27, 3, 67]\n",
        "minimo, maximo = encontrar_minimo_maximo(numeros)\n",
        "\n",
        "if minimo is not None and maximo is not None:\n",
        "    print(\"Número mínimo:\", minimo)\n",
        "    print(\"Número máximo:\", maximo)\n",
        "else:\n",
        "    print(\"La lista está vacía.\")\n"
      ],
      "metadata": {
        "colab": {
          "base_uri": "https://localhost:8080/"
        },
        "id": "fhB8YlKN8e87",
        "outputId": "ee6543b9-3b8e-4755-c47c-5d001d841fac"
      },
      "execution_count": null,
      "outputs": [
        {
          "output_type": "stream",
          "name": "stdout",
          "text": [
            "Número mínimo: 3\n",
            "Número máximo: 84\n"
          ]
        }
      ]
    },
    {
      "cell_type": "markdown",
      "source": [
        "20. Escribe un programa que genere e imprima los primeros 30 términos de la secuencia de números de Pell a discresión del usuario."
      ],
      "metadata": {
        "id": "cFwqMCDV8xxh"
      }
    },
    {
      "cell_type": "code",
      "source": [
        "# Función para generar la secuencia de números de Pell\n",
        "def secuencia_pell(n):\n",
        "    pell = [0, 1]  # Inicializamos la secuencia con los primeros dos términos\n",
        "\n",
        "    for i in range(2, n):\n",
        "        pell.append(pell[-1] + 2 * pell[-2])\n",
        "\n",
        "    return pell\n",
        "\n",
        "# Número de términos a generar\n",
        "n = 30\n",
        "\n",
        "# Generamos la secuencia de números de Pell\n",
        "secuencia = secuencia_pell(n)\n",
        "\n",
        "# Imprimimos los primeros 30 términos\n",
        "print(\"Los primeros 30 términos de la secuencia de números de Pell son:\")\n",
        "for i, valor in enumerate(secuencia):\n",
        "    print(f\"P({i}): {valor}\")\n"
      ],
      "metadata": {
        "colab": {
          "base_uri": "https://localhost:8080/"
        },
        "id": "_Z7Op-WL9BhV",
        "outputId": "aa2b00a8-d05f-4033-ed49-aedf66a04973"
      },
      "execution_count": null,
      "outputs": [
        {
          "output_type": "stream",
          "name": "stdout",
          "text": [
            "Los primeros 30 términos de la secuencia de números de Pell son:\n",
            "P(0): 0\n",
            "P(1): 1\n",
            "P(2): 1\n",
            "P(3): 3\n",
            "P(4): 5\n",
            "P(5): 11\n",
            "P(6): 21\n",
            "P(7): 43\n",
            "P(8): 85\n",
            "P(9): 171\n",
            "P(10): 341\n",
            "P(11): 683\n",
            "P(12): 1365\n",
            "P(13): 2731\n",
            "P(14): 5461\n",
            "P(15): 10923\n",
            "P(16): 21845\n",
            "P(17): 43691\n",
            "P(18): 87381\n",
            "P(19): 174763\n",
            "P(20): 349525\n",
            "P(21): 699051\n",
            "P(22): 1398101\n",
            "P(23): 2796203\n",
            "P(24): 5592405\n",
            "P(25): 11184811\n",
            "P(26): 22369621\n",
            "P(27): 44739243\n",
            "P(28): 89478485\n",
            "P(29): 178956971\n"
          ]
        }
      ]
    },
    {
      "cell_type": "markdown",
      "source": [
        "21. Crea una función calcular_amortizacion que calcule la amortización de un préstamo a lo largo del tiempo."
      ],
      "metadata": {
        "id": "0dpJpFPJ3vdD"
      }
    },
    {
      "cell_type": "code",
      "source": [
        "def calcular_amortizacion(monto_prestamo, tasa_interes_anual, plazo_años):\n",
        "    # Convierte la tasa de interés anual a mensual y el plazo a meses\n",
        "    tasa_interes_mensual = tasa_interes_anual / 12 / 100\n",
        "    plazo_meses = plazo_años * 12\n",
        "\n",
        "    # Calcula el factor de amortización mensual\n",
        "    factor_amortizacion = (tasa_interes_mensual * (1 + tasa_interes_mensual)**plazo_meses) / ((1 + tasa_interes_mensual)**plazo_meses - 1)\n",
        "\n",
        "    # Inicializa listas para almacenar los valores de amortización\n",
        "    amortizacion_principal = []\n",
        "    interes_pago = []\n",
        "    saldo_pendiente = []\n",
        "\n",
        "    saldo_actual = monto_prestamo\n",
        "\n",
        "    # Calcula los pagos mensuales de amortización\n",
        "    for mes in range(1, plazo_meses + 1):\n",
        "        interes_pago_mes = saldo_actual * tasa_interes_mensual\n",
        "        principal_pago_mes = monto_prestamo * factor_amortizacion - interes_pago_mes\n",
        "        saldo_actual -= principal_pago_mes\n",
        "\n",
        "        amortizacion_principal.append(principal_pago_mes)\n",
        "        interes_pago.append(interes_pago_mes)\n",
        "        saldo_pendiente.append(saldo_actual)\n",
        "\n",
        "    return amortizacion_principal, interes_pago, saldo_pendiente\n",
        "\n",
        "monto_prestamo = 80000  # Monto del préstamo\n",
        "tasa_interes_anual = 4 # Tasa de interés anual (en porcentaje)\n",
        "plazo_años = 2         # Plazo del préstamo en años\n",
        "\n",
        "amortizacion, intereses, saldo_pendiente = calcular_amortizacion(monto_prestamo, tasa_interes_anual, plazo_años)\n",
        "\n",
        "# Imprime la tabla de amortización\n",
        "print(\"Mes\\tPrincipal\\tIntereses\\tSaldo Pendiente\")\n",
        "for mes in range(len(amortizacion)):\n",
        "    print(f\"{mes + 1}\\t{amortizacion[mes]:.2f}\\t\\t{intereses[mes]:.2f}\\t\\t{saldo_pendiente[mes]:.2f}\")\n"
      ],
      "metadata": {
        "colab": {
          "base_uri": "https://localhost:8080/"
        },
        "id": "QGRVo98S4AWs",
        "outputId": "c9aea00c-8c50-49d6-d8e6-2323c4d50ea3"
      },
      "execution_count": 25,
      "outputs": [
        {
          "output_type": "stream",
          "name": "stdout",
          "text": [
            "Mes\tPrincipal\tIntereses\tSaldo Pendiente\n",
            "1\t3207.33\t\t266.67\t\t76792.67\n",
            "2\t3218.02\t\t255.98\t\t73574.65\n",
            "3\t3228.74\t\t245.25\t\t70345.91\n",
            "4\t3239.51\t\t234.49\t\t67106.40\n",
            "5\t3250.31\t\t223.69\t\t63856.10\n",
            "6\t3261.14\t\t212.85\t\t60594.96\n",
            "7\t3272.01\t\t201.98\t\t57322.95\n",
            "8\t3282.92\t\t191.08\t\t54040.03\n",
            "9\t3293.86\t\t180.13\t\t50746.17\n",
            "10\t3304.84\t\t169.15\t\t47441.33\n",
            "11\t3315.86\t\t158.14\t\t44125.47\n",
            "12\t3326.91\t\t147.08\t\t40798.56\n",
            "13\t3338.00\t\t136.00\t\t37460.56\n",
            "14\t3349.13\t\t124.87\t\t34111.44\n",
            "15\t3360.29\t\t113.70\t\t30751.15\n",
            "16\t3371.49\t\t102.50\t\t27379.66\n",
            "17\t3382.73\t\t91.27\t\t23996.93\n",
            "18\t3394.00\t\t79.99\t\t20602.93\n",
            "19\t3405.32\t\t68.68\t\t17197.61\n",
            "20\t3416.67\t\t57.33\t\t13780.94\n",
            "21\t3428.06\t\t45.94\t\t10352.89\n",
            "22\t3439.48\t\t34.51\t\t6913.40\n",
            "23\t3450.95\t\t23.04\t\t3462.45\n",
            "24\t3462.45\t\t11.54\t\t0.00\n"
          ]
        }
      ]
    },
    {
      "cell_type": "markdown",
      "source": [
        "22. Escribe un programa que determine si un número dado es un número perfecto o no."
      ],
      "metadata": {
        "id": "gaTsBCBi7lQ_"
      }
    },
    {
      "cell_type": "code",
      "source": [
        "def es_numero_perfecto(numero):\n",
        "    if numero <= 0:\n",
        "        return False\n",
        "\n",
        "    suma_divisores = 0\n",
        "\n",
        "    for i in range(1, numero):\n",
        "        if numero % i == 0:\n",
        "            suma_divisores += i\n",
        "\n",
        "    return suma_divisores == numero\n",
        "\n",
        "# Ingresar un número\n",
        "numero = int(input(\"Ingresa un número: \"))\n",
        "\n",
        "if es_numero_perfecto(numero):\n",
        "    print(f\"{numero} es un número perfecto.\")\n",
        "else:\n",
        "    print(f\"{numero} no es un número perfecto.\")\n"
      ],
      "metadata": {
        "colab": {
          "base_uri": "https://localhost:8080/"
        },
        "id": "KUlTqV6L7qUu",
        "outputId": "2baa896e-9d54-47bd-cee3-024f2728937c"
      },
      "execution_count": null,
      "outputs": [
        {
          "output_type": "stream",
          "name": "stdout",
          "text": [
            "Ingresa un número: 820\n",
            "820 no es un número perfecto.\n"
          ]
        }
      ]
    },
    {
      "cell_type": "markdown",
      "source": [
        "23. Define un diccionario que almacene las tasas de interés para diferentes tipos de préstamos. Pide al usuario que ingrese un tipo de préstamo y muestra la tasa de interés correspondiente.\n"
      ],
      "metadata": {
        "id": "ovDUOGyh8D1V"
      }
    },
    {
      "cell_type": "code",
      "source": [
        "# Definir el diccionario de tasas de interés\n",
        "tasas_de_interes = {\n",
        "    \"hipoteca\": 3.5,\n",
        "    \"préstamo de auto\": 5,\n",
        "    \"préstamo personal\": 7,\n",
        "    \"tarjeta de crédito\": 20,\n",
        "}\n",
        "\n",
        "# Solicitar al usuario que ingrese un tipo de préstamo\n",
        "tipo_prestamo = input(\"Ingresa el tipo de préstamo: \")\n",
        "\n",
        "# Verificar si el tipo de préstamo está en el diccionario\n",
        "if tipo_prestamo in tasas_de_interes:\n",
        "    tasa = tasas_de_interes[tipo_prestamo]\n",
        "    print(f\"La tasa de interés para {tipo_prestamo} es del {tasa}%.\")\n",
        "else:\n",
        "    print(\"Tipo de préstamo no encontrado en la lista.\")\n"
      ],
      "metadata": {
        "colab": {
          "base_uri": "https://localhost:8080/"
        },
        "id": "jv5WI6_S84-k",
        "outputId": "f8b54c5c-4694-411b-becd-e7458cae7dd2"
      },
      "execution_count": null,
      "outputs": [
        {
          "output_type": "stream",
          "name": "stdout",
          "text": [
            "Ingresa el tipo de préstamo: tarjeta de crédito\n",
            "La tasa de interés para tarjeta de crédito es del 20%.\n"
          ]
        }
      ]
    },
    {
      "cell_type": "markdown",
      "source": [
        "24. Escribe una función calcular_media_geometrica que calcule la media geométrica de una lista de números.\n",
        "\n"
      ],
      "metadata": {
        "id": "hbgchoE89jDY"
      }
    },
    {
      "cell_type": "code",
      "source": [
        "import math\n",
        "\n",
        "def calcular_media_geometrica(lista_numeros):\n",
        "    if len(lista_numeros) == 0:\n",
        "        return None  # Manejo de caso vacío\n",
        "\n",
        "    producto = 4.0\n",
        "\n",
        "    for numero in lista_numeros:\n",
        "        producto *= numero\n",
        "\n",
        "    media_geometrica = math.pow(producto, 3.0 / len(lista_numeros))\n",
        "    return media_geometrica\n",
        "\n",
        "\n",
        "numeros = [80, 40, 20, 32]  # Puedes reemplazar esta lista con tus propios números\n",
        "media_geo = calcular_media_geometrica(numeros)\n",
        "\n",
        "if media_geo is not None:\n",
        "    print(f\"La media geométrica de la lista es: {media_geo:.2f}\")\n",
        "else:\n",
        "    print(\"La lista está vacía.\")\n"
      ],
      "metadata": {
        "colab": {
          "base_uri": "https://localhost:8080/"
        },
        "id": "xuI19T9397Tg",
        "outputId": "db85dcc6-a396-47b8-9178-191913141a1f"
      },
      "execution_count": 24,
      "outputs": [
        {
          "output_type": "stream",
          "name": "stdout",
          "text": [
            "La media geométrica de la lista es: 153123.72\n"
          ]
        }
      ]
    },
    {
      "cell_type": "markdown",
      "source": [
        "25. Crea una lista de números y utiliza una función para encontrar el segundo número más grande."
      ],
      "metadata": {
        "id": "FiNOxiApI0wU"
      }
    },
    {
      "cell_type": "code",
      "source": [
        "# Crear una lista de números\n",
        "numeros = [8,16,24, 32,54,88,99,106,253,329]\n",
        "\n",
        "# Definir una función para encontrar el segundo número más grande\n",
        "def segundo_mas_grande(lista):\n",
        "    if len(lista) < 2:\n",
        "        return \"La lista debe contener al menos dos números.\"\n",
        "\n",
        "    # Ordenar la lista en orden descendente\n",
        "    lista.sort(reverse=True)\n",
        "\n",
        "    # El segundo número más grande es el segundo elemento de la lista ordenada\n",
        "    return lista[1]\n",
        "\n",
        "# Llamar a la función e imprimir el resultado\n",
        "resultado = segundo_mas_grande(numeros)\n",
        "print(\"El segundo número más grande es:\", resultado)\n"
      ],
      "metadata": {
        "colab": {
          "base_uri": "https://localhost:8080/"
        },
        "id": "rFYXUth3I4ZH",
        "outputId": "21b355bf-50ac-497e-9c25-4c06c97b189b"
      },
      "execution_count": 12,
      "outputs": [
        {
          "output_type": "stream",
          "name": "stdout",
          "text": [
            "El segundo número más grande es: 253\n"
          ]
        }
      ]
    },
    {
      "cell_type": "markdown",
      "source": [
        "26. Escribe un programa que calcule e imprima los primeros 10 números de la serie de los números de Lucas a discresión del usuario."
      ],
      "metadata": {
        "id": "YAdxR1KOKCHG"
      }
    },
    {
      "cell_type": "code",
      "source": [
        "# Función para calcular los primeros 10 números de la serie de Lucas\n",
        "def calcular_lucas(n):\n",
        "    lucas = [2, 1]  # Iniciamos con los primeros dos números de Lucas\n",
        "\n",
        "    while len(lucas) < n:\n",
        "        siguiente_numero = lucas[-1] + lucas[-2]\n",
        "        lucas.append(siguiente_numero)\n",
        "\n",
        "    return lucas\n",
        "\n",
        "# Número de términos que deseas calcular\n",
        "n = 10\n",
        "\n",
        "# Calcular la serie de Lucas\n",
        "serie_lucas = calcular_lucas(n)\n",
        "\n",
        "# Imprimir los primeros 10 números de la serie de Lucas\n",
        "print(\"Los primeros 10 números de la serie de Lucas son:\")\n",
        "for numero in serie_lucas:\n",
        "    print(numero)\n"
      ],
      "metadata": {
        "colab": {
          "base_uri": "https://localhost:8080/"
        },
        "id": "9hX41oowLMKG",
        "outputId": "c79ed9c5-4dc4-4cd8-ea74-93d0d80d5eaf"
      },
      "execution_count": 15,
      "outputs": [
        {
          "output_type": "stream",
          "name": "stdout",
          "text": [
            "Los primeros 10 números de la serie de Lucas son:\n",
            "2\n",
            "1\n",
            "3\n",
            "4\n",
            "7\n",
            "11\n",
            "18\n",
            "29\n",
            "47\n",
            "76\n"
          ]
        }
      ]
    },
    {
      "cell_type": "markdown",
      "source": [
        "27. Crea una función calcular_cuota_mensual que calcule la cuota mensual de un préstamo hipotecario."
      ],
      "metadata": {
        "id": "d9LuDnhHLdiR"
      }
    },
    {
      "cell_type": "code",
      "source": [
        "def calcular_cuota_mensual(monto_prestamo, tasa_interes_anual, plazo_años):\n",
        "    # Convertir la tasa de interés anual a tasa mensual y decimal\n",
        "    tasa_interes_mensual = (tasa_interes_anual / 12) / 100\n",
        "\n",
        "    # Convertir el plazo en años a plazo en meses\n",
        "    plazo_meses = plazo_años * 12\n",
        "\n",
        "    # Calcular la cuota mensual utilizando la fórmula\n",
        "    cuota = monto_prestamo * (tasa_interes_mensual * (1 + tasa_interes_mensual) ** plazo_meses) / ((1 + tasa_interes_mensual) ** plazo_meses - 1)\n",
        "\n",
        "    return cuota\n",
        "\n",
        "\n",
        "monto_prestamo = 300000  # Monto del préstamo en dólares\n",
        "tasa_interes_anual = 8.0  # Tasa de interés anual en porcentaje\n",
        "plazo_años = 20  # Plazo del préstamo en años\n",
        "\n",
        "cuota_mensual = calcular_cuota_mensual(monto_prestamo, tasa_interes_anual, plazo_años)\n",
        "print(\"La cuota mensual del préstamo es: $\", cuota_mensual)\n"
      ],
      "metadata": {
        "colab": {
          "base_uri": "https://localhost:8080/"
        },
        "id": "-yjA0tYlMm70",
        "outputId": "a1402a0b-4b2f-47e3-86a6-fac1eba08899"
      },
      "execution_count": 23,
      "outputs": [
        {
          "output_type": "stream",
          "name": "stdout",
          "text": [
            "La cuota mensual del préstamo es: $ 2509.320206980399\n"
          ]
        }
      ]
    },
    {
      "cell_type": "markdown",
      "source": [
        "28. Escribe una función que determine si un número es un número de Armstrong (un número de 2 dígitos que es igual a la suma de sus dígitos elevados a la 2)."
      ],
      "metadata": {
        "id": "yuZfzmBfNOsR"
      }
    },
    {
      "cell_type": "code",
      "source": [
        "def es_numero_armstrong(numero):\n",
        "    # Verificar si el número tiene exactamente 2 dígitos\n",
        "    if 10 <= numero <= 99:\n",
        "        # Extraer los dígitos\n",
        "        primer_digito = numero // 10\n",
        "        segundo_digito = numero % 10\n",
        "\n",
        "        # Calcular la suma de los dígitos elevados a la 2\n",
        "        suma_digitos_elevados = (primer_digito ** 2) + (segundo_digito ** 2)\n",
        "\n",
        "        # Verificar si el número es igual a la suma de los dígitos elevados\n",
        "        if numero == suma_digitos_elevados:\n",
        "            return True\n",
        "        else:\n",
        "            return False\n",
        "    else:\n",
        "        return False\n",
        "\n",
        "\n",
        "numero = 64  # Cambia este número para verificar si es un número de Armstrong\n",
        "\n",
        "if es_numero_armstrong(numero):\n",
        "    print(numero, \"es un número de Armstrong de 2 dígitos.\")\n",
        "else:\n",
        "    print(numero, \"no es un número de Armstrong de 2 dígitos.\")\n"
      ],
      "metadata": {
        "colab": {
          "base_uri": "https://localhost:8080/"
        },
        "id": "hwv9_5BvOX2i",
        "outputId": "6d5d4df1-dd85-4f67-8954-cb88728906a6"
      },
      "execution_count": 22,
      "outputs": [
        {
          "output_type": "stream",
          "name": "stdout",
          "text": [
            "64 no es un número de Armstrong de 2 dígitos.\n"
          ]
        }
      ]
    },
    {
      "cell_type": "markdown",
      "source": [
        "29. Define un diccionario que almacene los símbolos de moneda y sus respectivos códigos. Escribe un programa que convierta una cantidad de dinero de una moneda a otra."
      ],
      "metadata": {
        "id": "BpMC8EaJOk_6"
      }
    },
    {
      "cell_type": "code",
      "source": [
        "# Definir un diccionario de monedas con símbolos y códigos\n",
        "diccionario_monedas = {\n",
        "    \"USD\": \"Dólar estadounidense\",\n",
        "    \"EUR\": \"Euro\",\n",
        "    \"JPY\": \"Yen japonés\",\n",
        "    \"GBP\": \"Libra esterlina\",\n",
        "    \"CAD\": \"Dólar canadiense\",\n",
        "\n",
        "}\n",
        "\n",
        "# Función para realizar la conversión de moneda\n",
        "def convertir_moneda(monto, moneda_origen, moneda_destino, tasas_cambio):\n",
        "    if moneda_origen not in tasas_cambio or moneda_destino not in tasas_cambio:\n",
        "        return \"Moneda no soportada\"\n",
        "\n",
        "    tasa_origen = tasas_cambio[moneda_origen]\n",
        "    tasa_destino = tasas_cambio[moneda_destino]\n",
        "\n",
        "    monto_convertido = monto * (tasa_destino / tasa_origen)\n",
        "\n",
        "    return monto_convertido\n",
        "\n",
        "# Tasas de cambio ficticias para demostración (debes proporcionar tasas de cambio reales)\n",
        "tasas_cambio = {\n",
        "    \"USD\": 1.0,  # Tasa de cambio base\n",
        "    \"EUR\": 0.85,\n",
        "    \"JPY\": 110.15,\n",
        "    \"GBP\": 0.73,\n",
        "    \"CAD\": 1.25,\n",
        "}\n",
        "\n",
        "monto_usd = 200\n",
        "moneda_origen = \"USD\"\n",
        "moneda_destino = \"EUR\"\n",
        "\n",
        "monto_convertido = convertir_moneda(monto_usd, moneda_origen, moneda_destino, tasas_cambio)\n",
        "\n",
        "print(f\"{monto_usd} {diccionario_monedas[moneda_origen]} equivale a {monto_convertido} {diccionario_monedas[moneda_destino]}\")\n"
      ],
      "metadata": {
        "colab": {
          "base_uri": "https://localhost:8080/"
        },
        "id": "xJlDUd91OpKC",
        "outputId": "eeeb9de0-ca0a-4e6c-fbb6-0bcd5e851da3"
      },
      "execution_count": 20,
      "outputs": [
        {
          "output_type": "stream",
          "name": "stdout",
          "text": [
            "200 Dólar estadounidense equivale a 170.0 Euro\n"
          ]
        }
      ]
    },
    {
      "cell_type": "markdown",
      "source": [
        "30. Crea una función que calcule la desviación estándar de una lista de números."
      ],
      "metadata": {
        "id": "ssqcqetoPG3L"
      }
    },
    {
      "cell_type": "code",
      "source": [
        "import math\n",
        "\n",
        "def calcular_desviacion_estandar(lista_numeros):\n",
        "    # Verificar si la lista está vacía o tiene un solo elemento\n",
        "    if len(lista_numeros) < 2:\n",
        "        return None  # La desviación estándar no se puede calcular con menos de dos elementos\n",
        "\n",
        "    # Calcular la media de la lista\n",
        "    media = sum(lista_numeros) / len(lista_numeros)\n",
        "\n",
        "    # Calcular la suma de los cuadrados de las diferencias con la media\n",
        "    suma_cuadrados_diferencias = sum((x - media) ** 2 for x in lista_numeros)\n",
        "\n",
        "    # Calcular la varianza\n",
        "    varianza = suma_cuadrados_diferencias / (len(lista_numeros) - 1)\n",
        "\n",
        "    # Calcular la desviación estándar como la raíz cuadrada de la varianza\n",
        "    desviacion_estandar = math.sqrt(varianza)\n",
        "\n",
        "    return desviacion_estandar\n",
        "\n",
        "\n",
        "lista_numeros = [80, 40, 20, 32, 54, 88, 27, 13, 17, 21, 25, 7]\n",
        "\n",
        "desviacion = calcular_desviacion_estandar(lista_numeros)\n",
        "if desviacion is not None:\n",
        "    print(f\"La desviación estándar de la lista es: {desviacion}\")\n",
        "else:\n",
        "    print(\"La lista debe tener al menos dos elementos para calcular la desviación estándar.\")\n"
      ],
      "metadata": {
        "colab": {
          "base_uri": "https://localhost:8080/"
        },
        "id": "JOfmPlxYPOeL",
        "outputId": "8d45d330-71c2-455f-9876-22773455d13b"
      },
      "execution_count": 21,
      "outputs": [
        {
          "output_type": "stream",
          "name": "stdout",
          "text": [
            "La desviación estándar de la lista es: 25.945163617744157\n"
          ]
        }
      ]
    }
  ]
}